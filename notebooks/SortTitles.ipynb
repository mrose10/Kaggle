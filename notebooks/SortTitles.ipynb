{
 "cells": [
  {
   "cell_type": "code",
   "execution_count": 3,
   "metadata": {},
   "outputs": [],
   "source": [
    "def get_titlekey(sample):\n",
    "    title = []\n",
    "    dict_title = {\n",
    "    \"Capt\":       0,\n",
    "    \"Col\":        0,\n",
    "    \"Major\":      0,\n",
    "    \"Jonkheer\":   1,\n",
    "    \"Don\":        1,\n",
    "    \"Sir\" :       1,\n",
    "    \"Dr\":         0,\n",
    "    \"Rev\":        0,\n",
    "    \"the Countess\":1,\n",
    "    \"Dona\":       1,\n",
    "    \"Mme\":        2,\n",
    "    \"Mlle\":       3,\n",
    "    \"Ms\":         2,\n",
    "    \"Mr\" :        4,\n",
    "    \"Mrs\" :       2,\n",
    "    \"Miss\" :      3,\n",
    "    \"Master\" :    5,\n",
    "    \"Lady\" :      1\n",
    "}\n",
    "    \n",
    "    title_key = []\n",
    "    for i in range(len(sample.Title)):\n",
    "        tmp = sample.Title[i].strip()\n",
    "        if tmp in dict_title.keys():\n",
    "            title_key.append(dict_title[tmp])\n",
    "        \n",
    "    sample['TitleKey'] = title_key\n",
    "    return sample"
   ]
  },
  {
   "cell_type": "code",
   "execution_count": null,
   "metadata": {},
   "outputs": [],
   "source": []
  }
 ],
 "metadata": {
  "kernelspec": {
   "display_name": "Python 3",
   "language": "python",
   "name": "python3"
  },
  "language_info": {
   "codemirror_mode": {
    "name": "ipython",
    "version": 3
   },
   "file_extension": ".py",
   "mimetype": "text/x-python",
   "name": "python",
   "nbconvert_exporter": "python",
   "pygments_lexer": "ipython3",
   "version": "3.7.1"
  }
 },
 "nbformat": 4,
 "nbformat_minor": 2
}
