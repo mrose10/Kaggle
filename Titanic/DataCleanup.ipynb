{
 "cells": [
  {
   "cell_type": "code",
   "execution_count": null,
   "metadata": {},
   "outputs": [],
   "source": [
    "# Name, has a title\n",
    "def get_title(sample):\n",
    "    title = []\n",
    "    for i in range(len(sample.Name)):\n",
    "        tmp = sample.Name[i].split(',')\n",
    "        title.append(tmp[-1].split('.')[0]) #or to combine use regexp and search\n",
    "    sample['Title'] = title\n",
    "    return sample\n",
    "\n",
    "\n",
    "def transform_sex(df):\n",
    "    for i in range(len(df.Sex)):\n",
    "        if df.Age[i] < 8:\n",
    "            df.Sex[i] = 'child'\n",
    "    return df\n",
    "\n",
    "\n",
    "# Group continuous data to prevent overfitting\n",
    "def simplify_ages(sample):\n",
    "    sample.Age = sample.Age.fillna(-0.5)\n",
    "    bins = (-1, 0, 5, 12 , 18, 25, 35 , 60, 100)\n",
    "    group_names = ['Unknown', 'Baby', 'Child', 'Teenager', 'Student', 'Young Adult', 'Adult', 'Senior']\n",
    "    categories = pd.cut(sample.Age, bins, labels=group_names) #puts things in bins, this is great\n",
    "    sample.Age = categories\n",
    "    return sample\n",
    "\n",
    "\n",
    "def simplify_cabins(sample):\n",
    "    sample.Cabin = sample.Cabin.fillna('N')\n",
    "    sample.Cabin = sample.Cabin.apply(lambda s: s[0])\n",
    "    return sample\n",
    "\n",
    "def simplify_fare(df):\n",
    "    df.Fare = df.Fare.fillna(df.Fare.median())\n",
    "    df.Fare.astype(int)\n",
    "    bins = (-1,0,8,15,31,1000) #Picked from describe values\n",
    "    group_names = ['Unknown','First','Second','Third','Fourth']\n",
    "    categories = pd.cut(df.Fare,bins,labels = group_names)\n",
    "    df.Fare = categories\n",
    "    return df\n",
    "\n",
    "\n",
    "def transform_features(df):\n",
    "    get_title(df)\n",
    "    transform_sex(df)\n",
    "    simplify_ages(df)\n",
    "    simplify_cabins(df)\n",
    "    simplify_fare(df)\n",
    "   \n",
    "    return df"
   ]
  }
 ],
 "metadata": {
  "kernelspec": {
   "display_name": "Python 3",
   "language": "python",
   "name": "python3"
  },
  "language_info": {
   "codemirror_mode": {
    "name": "ipython",
    "version": 3
   },
   "file_extension": ".py",
   "mimetype": "text/x-python",
   "name": "python",
   "nbconvert_exporter": "python",
   "pygments_lexer": "ipython3",
   "version": "3.7.1"
  }
 },
 "nbformat": 4,
 "nbformat_minor": 2
}
